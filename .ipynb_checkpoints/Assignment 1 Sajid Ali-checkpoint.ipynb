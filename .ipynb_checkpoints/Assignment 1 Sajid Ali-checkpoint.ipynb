{
 "cells": [
  {
   "cell_type": "code",
   "execution_count": 1,
   "id": "e1a3d011",
   "metadata": {},
   "outputs": [
    {
     "name": "stdout",
     "output_type": "stream",
     "text": [
      "Twinkle, twinkle little star,\n",
      "\t how i wonder what you are!\n",
      "\t\tUp above the world so high,\n",
      "\t\tLike a diamond in the sky. \n",
      "Twinkle, twinkle little star, \n",
      "\thow i wonder what you are! \n",
      "\n",
      "Python version\n",
      "3.9.7 (default, Sep 16 2021, 16:59:28) [MSC v.1916 64 bit (AMD64)]\n",
      "Current date and time : \n",
      "2021-12-28 22:32:59\n",
      "Enter radius of circle : 6\n",
      "Area of the circle is: 113.09733552923255\n",
      "Enter First Name : s\n",
      "Enter Last Name : a\n",
      "a s\n",
      "enter first number: 5\n",
      "enter second number: 4\n",
      "sum: 9\n"
     ]
    }
   ],
   "source": [
    "# DATA SCIENCE ASSIGNMENT 1 SAJID ALI\n",
    "\n",
    "# 1.Write a Python program to print the following string in a specific format (see the output).\n",
    "#     Twinkle, twinkle little star,\n",
    "#         how i wonder what you are!\n",
    "#             Up above the world so high,\n",
    "#             Like a diamond in the sky.\n",
    "#         Twinkle, twinkle little star,\n",
    "#         how i wonder what you are!\n",
    "x = (\"Twinkle, twinkle little star,\\n\"\n",
    "\"\\t how i wonder what you are!\\n\"\n",
    "\"\\t\\tUp above the world so high,\\n\"\n",
    "\"\\t\\tLike a diamond in the sky. \\n\"\n",
    "\"Twinkle, twinkle little star, \\n\"\n",
    "\"\\thow i wonder what you are! \\n\")\n",
    "print(x)\n",
    "\n",
    "# 2. Write a Python program to get the Python version you are using \n",
    "import sys\n",
    "print(\"Python version\")\n",
    "print (sys.version)\n",
    "\n",
    "# 3. Write a Python program to display the current date and time.\n",
    "import datetime\n",
    "now = datetime.datetime.now()\n",
    "print (\"Current date and time : \")\n",
    "print (now.strftime(\"%Y-%m-%d %H:%M:%S\"))\n",
    "\n",
    "# 4. Write a Python program which accepts the radius of a circle from the user and compute the area.\n",
    "from math import pi\n",
    "r = float(input (\"Enter radius of circle : \"))\n",
    "print (\"Area of the circle is: \" + str(pi * r**2))\n",
    "\n",
    "# 5. Write a Python program which accepts the user's first and last name and print them in reverse order with a space between them. \n",
    "firstName = input(\"Enter First Name : \")\n",
    "lastName = input(\"Enter Last Name : \")\n",
    "print (lastName + \" \" + firstName)\n",
    "\n",
    "# 6. Write a Python program which takes two inputs from user and print them addition\n",
    "a = int(input(\"enter first number: \"))\n",
    "b = int(input(\"enter second number: \"))\n",
    "sum = a + b\n",
    "print(\"sum:\", sum)"
   ]
  },
  {
   "cell_type": "code",
   "execution_count": null,
   "id": "6520da17",
   "metadata": {},
   "outputs": [],
   "source": []
  }
 ],
 "metadata": {
  "kernelspec": {
   "display_name": "Python 3 (ipykernel)",
   "language": "python",
   "name": "python3"
  },
  "language_info": {
   "codemirror_mode": {
    "name": "ipython",
    "version": 3
   },
   "file_extension": ".py",
   "mimetype": "text/x-python",
   "name": "python",
   "nbconvert_exporter": "python",
   "pygments_lexer": "ipython3",
   "version": "3.9.7"
  }
 },
 "nbformat": 4,
 "nbformat_minor": 5
}
